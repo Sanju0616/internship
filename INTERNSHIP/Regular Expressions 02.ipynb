{
 "cells": [
  {
   "cell_type": "code",
   "execution_count": 1,
   "id": "72f042f4",
   "metadata": {},
   "outputs": [
    {
     "name": "stdout",
     "output_type": "stream",
     "text": [
      "Found \"exercises\"\n",
      "Found \"exercises\"\n",
      "Found \"exercises\"\n"
     ]
    }
   ],
   "source": [
    "import re\n",
    "text = 'Python exercises, PHP exercises, C# exercises'\n",
    "pattern = 'exercises'\n",
    "for match in re.findall(pattern, text):\n",
    "    print('Found \"%s\"' % match)\n"
   ]
  },
  {
   "cell_type": "code",
   "execution_count": 2,
   "id": "d82973b4",
   "metadata": {},
   "outputs": [
    {
     "name": "stdout",
     "output_type": "stream",
     "text": [
      "['example', 'eates', 'an', 'ayList', 'apacity', 'elements', 'elements', 'are', 'en', 'added', 'ayList', 'and', 'ayList', 'ed', 'accordingly']\n"
     ]
    }
   ],
   "source": [
    "import re\n",
    "# Input.\n",
    "text = \"The following example creates an ArrayList with a capacity of 50 elements. Four elements are then added to the ArrayList and the ArrayList is trimmed accordingly.\"\n",
    "#find all the words starting with 'a' or 'e'\n",
    "list = re.findall(\"[ae]\\w+\", text)\n",
    "# Print result.\n",
    "print(list)\n"
   ]
  },
  {
   "cell_type": "code",
   "execution_count": 3,
   "id": "78eaaaec",
   "metadata": {},
   "outputs": [
    {
     "name": "stdout",
     "output_type": "stream",
     "text": [
      "['quick', 'brown', 'jumps', 'over', 'lazy']\n"
     ]
    }
   ],
   "source": [
    "import re\n",
    "text = 'The quick brown fox jumps over the lazy dog.'\n",
    "print(re.findall(r\"\\b\\w{4,}\\b\", text))\n"
   ]
  },
  {
   "cell_type": "code",
   "execution_count": 7,
   "id": "82aada3e",
   "metadata": {},
   "outputs": [
    {
     "name": "stdout",
     "output_type": "stream",
     "text": [
      "['The', 'quick', 'brown', 'fox', 'jumps', 'over', 'the', 'lazy', 'dog']\n"
     ]
    }
   ],
   "source": [
    "import re\n",
    "text = 'The quick brown fox jumps over the lazy dog.'\n",
    "print(re.findall(r\"\\b\\w{3,5}\\b\", text))\n",
    "\n"
   ]
  },
  {
   "cell_type": "code",
   "execution_count": 8,
   "id": "1f63a9ba",
   "metadata": {},
   "outputs": [
    {
     "name": "stdout",
     "output_type": "stream",
     "text": [
      "example \n",
      "hr@fliprobo \n",
      "github \n",
      "Hello \n",
      "Data \n"
     ]
    }
   ],
   "source": [
    "import re\n",
    "\n",
    "def remove_parentheses_from_list(strings):\n",
    "    # Define a regular expression pattern to match parentheses and their contents\n",
    "    pattern = re.compile(r'\\([^)]*\\)')\n",
    "    \n",
    "    # Use re.sub() to remove all matched patterns from each string in the list\n",
    "    cleaned_strings = [pattern.sub('', s) for s in strings]\n",
    "    \n",
    "    return cleaned_strings\n",
    "\n",
    "# Sample list of strings\n",
    "sample_strings = [\"example (.com)\", \"hr@fliprobo (.com)\", \"github (.com)\", \"Hello (Data Science World)\", \"Data (Scientist)\"]\n",
    "\n",
    "# Remove parentheses from the list of strings\n",
    "cleaned_strings = remove_parentheses_from_list(sample_strings)\n",
    "\n",
    "# Print the cleaned strings\n",
    "for cleaned_string in cleaned_strings:\n",
    "    print(cleaned_string)\n"
   ]
  },
  {
   "cell_type": "code",
   "execution_count": 9,
   "id": "ebf71060",
   "metadata": {},
   "outputs": [
    {
     "name": "stdout",
     "output_type": "stream",
     "text": [
      "example\n",
      "w3resource\n",
      "github\n",
      "stackoverflow\n"
     ]
    }
   ],
   "source": [
    "import re\n",
    "items = [\"example (.com)\", \"w3resource\", \"github (.com)\", \"stackoverflow (.com)\"]\n",
    "for item in items:\n",
    "    print(re.sub(r\" ?\\([^)]+\\)\", \"\", item))\n"
   ]
  },
  {
   "cell_type": "code",
   "execution_count": 10,
   "id": "d7834339",
   "metadata": {},
   "outputs": [
    {
     "name": "stdout",
     "output_type": "stream",
     "text": [
      "['Python', 'Tutorial', 'And', 'Exercises']\n"
     ]
    }
   ],
   "source": [
    "import re\n",
    "text = \"PythonTutorialAndExercises\"\n",
    "print(re.findall('[A-Z][^A-Z]*', text))\n"
   ]
  },
  {
   "cell_type": "code",
   "execution_count": 11,
   "id": "e25a2cf5",
   "metadata": {},
   "outputs": [
    {
     "name": "stdout",
     "output_type": "stream",
     "text": [
      "Modified Text: RegularExpression 1 IsAn 2 ImportantTopic 3 InPython\n"
     ]
    }
   ],
   "source": [
    "import re\n",
    "\n",
    "def insert_spaces_between_words_starting_with_numbers(input_text):\n",
    "    # Define a regular expression pattern to match words starting with numbers\n",
    "    pattern = re.compile(r'(?<=\\d)(?=[A-Za-z])')\n",
    "    \n",
    "    # Use re.sub() to insert spaces before such words\n",
    "    modified_text = pattern.sub(' ', input_text)\n",
    "    \n",
    "    return modified_text\n",
    "\n",
    "# Sample Text\n",
    "sample_text = \"RegularExpression 1IsAn 2ImportantTopic 3InPython\"\n",
    "\n",
    "# Insert spaces between words starting with numbers\n",
    "modified_text = insert_spaces_between_words_starting_with_numbers(sample_text)\n",
    "\n",
    "# Print the modified text\n",
    "print(\"Modified Text:\", modified_text)\n"
   ]
  },
  {
   "cell_type": "code",
   "execution_count": 12,
   "id": "f9005895",
   "metadata": {},
   "outputs": [
    {
     "name": "stdout",
     "output_type": "stream",
     "text": [
      "Modified Text: RegularExpression1 IsAn2 ImportantTopic3 InPython\n"
     ]
    }
   ],
   "source": [
    "import re\n",
    "\n",
    "def insert_spaces_between_words(input_text):\n",
    "    # Define a regular expression pattern to match words starting with capital letters or numbers\n",
    "    pattern = re.compile(r'(?<=[A-Z0-9])(?=[A-Z])')\n",
    "    \n",
    "    # Use re.sub() to insert spaces before such words\n",
    "    modified_text = pattern.sub(' ', input_text)\n",
    "    \n",
    "    return modified_text\n",
    "\n",
    "# Sample Text\n",
    "sample_text = \"RegularExpression1IsAn2ImportantTopic3InPython\"\n",
    "\n",
    "# Insert spaces between words starting with capital letters or numbers\n",
    "modified_text = insert_spaces_between_words(sample_text)\n",
    "\n",
    "# Print the modified text\n",
    "print(\"Modified Text:\", modified_text)\n"
   ]
  },
  {
   "cell_type": "code",
   "execution_count": 13,
   "id": "a5d9c328",
   "metadata": {},
   "outputs": [
    {
     "ename": "FileNotFoundError",
     "evalue": "[Errno 2] No such file or directory: 'sample.txt'",
     "output_type": "error",
     "traceback": [
      "\u001b[1;31m---------------------------------------------------------------------------\u001b[0m",
      "\u001b[1;31mFileNotFoundError\u001b[0m                         Traceback (most recent call last)",
      "Cell \u001b[1;32mIn[13], line 14\u001b[0m\n\u001b[0;32m     11\u001b[0m     \u001b[38;5;28;01mreturn\u001b[39;00m emails\n\u001b[0;32m     13\u001b[0m \u001b[38;5;66;03m# Read the text from the file\u001b[39;00m\n\u001b[1;32m---> 14\u001b[0m \u001b[38;5;28;01mwith\u001b[39;00m \u001b[38;5;28;43mopen\u001b[39;49m\u001b[43m(\u001b[49m\u001b[38;5;124;43m\"\u001b[39;49m\u001b[38;5;124;43msample.txt\u001b[39;49m\u001b[38;5;124;43m\"\u001b[39;49m\u001b[43m,\u001b[49m\u001b[43m \u001b[49m\u001b[38;5;124;43m\"\u001b[39;49m\u001b[38;5;124;43mr\u001b[39;49m\u001b[38;5;124;43m\"\u001b[39;49m\u001b[43m)\u001b[49m \u001b[38;5;28;01mas\u001b[39;00m file:\n\u001b[0;32m     15\u001b[0m     text \u001b[38;5;241m=\u001b[39m file\u001b[38;5;241m.\u001b[39mread()\n\u001b[0;32m     17\u001b[0m \u001b[38;5;66;03m# Extract email addresses from the text\u001b[39;00m\n",
      "File \u001b[1;32m~\\anaconda3\\lib\\site-packages\\IPython\\core\\interactiveshell.py:282\u001b[0m, in \u001b[0;36m_modified_open\u001b[1;34m(file, *args, **kwargs)\u001b[0m\n\u001b[0;32m    275\u001b[0m \u001b[38;5;28;01mif\u001b[39;00m file \u001b[38;5;129;01min\u001b[39;00m {\u001b[38;5;241m0\u001b[39m, \u001b[38;5;241m1\u001b[39m, \u001b[38;5;241m2\u001b[39m}:\n\u001b[0;32m    276\u001b[0m     \u001b[38;5;28;01mraise\u001b[39;00m \u001b[38;5;167;01mValueError\u001b[39;00m(\n\u001b[0;32m    277\u001b[0m         \u001b[38;5;124mf\u001b[39m\u001b[38;5;124m\"\u001b[39m\u001b[38;5;124mIPython won\u001b[39m\u001b[38;5;124m'\u001b[39m\u001b[38;5;124mt let you open fd=\u001b[39m\u001b[38;5;132;01m{\u001b[39;00mfile\u001b[38;5;132;01m}\u001b[39;00m\u001b[38;5;124m by default \u001b[39m\u001b[38;5;124m\"\u001b[39m\n\u001b[0;32m    278\u001b[0m         \u001b[38;5;124m\"\u001b[39m\u001b[38;5;124mas it is likely to crash IPython. If you know what you are doing, \u001b[39m\u001b[38;5;124m\"\u001b[39m\n\u001b[0;32m    279\u001b[0m         \u001b[38;5;124m\"\u001b[39m\u001b[38;5;124myou can use builtins\u001b[39m\u001b[38;5;124m'\u001b[39m\u001b[38;5;124m open.\u001b[39m\u001b[38;5;124m\"\u001b[39m\n\u001b[0;32m    280\u001b[0m     )\n\u001b[1;32m--> 282\u001b[0m \u001b[38;5;28;01mreturn\u001b[39;00m io_open(file, \u001b[38;5;241m*\u001b[39margs, \u001b[38;5;241m*\u001b[39m\u001b[38;5;241m*\u001b[39mkwargs)\n",
      "\u001b[1;31mFileNotFoundError\u001b[0m: [Errno 2] No such file or directory: 'sample.txt'"
     ]
    }
   ],
   "source": [
    "import re\n",
    "\n",
    "# Function to extract email addresses from a given text\n",
    "def extract_emails_from_text(text):\n",
    "    # Define a regular expression pattern for matching email addresses\n",
    "    pattern = r'\\b[A-Za-z0-9._%+-]+@[A-Za-z0-9.-]+\\.[A-Z|a-z]{2,7}\\b'\n",
    "    \n",
    "    # Use re.findall() to extract all matching email addresses\n",
    "    emails = re.findall(pattern, text)\n",
    "    \n",
    "    return emails\n",
    "\n",
    "# Read the text from the file\n",
    "with open(\"sample.txt\", \"r\") as file:\n",
    "    text = file.read()\n",
    "\n",
    "# Extract email addresses from the text\n",
    "extracted_emails = extract_emails_from_text(text)\n",
    "\n",
    "# Print the extracted email addresses\n",
    "for email in extracted_emails:\n",
    "    print(email)\n"
   ]
  },
  {
   "cell_type": "code",
   "execution_count": 14,
   "id": "a1e6ff02",
   "metadata": {},
   "outputs": [
    {
     "ename": "SyntaxError",
     "evalue": "invalid syntax (3972396293.py, line 1)",
     "output_type": "error",
     "traceback": [
      "\u001b[1;36m  Cell \u001b[1;32mIn[14], line 1\u001b[1;36m\u001b[0m\n\u001b[1;33m    . import re\u001b[0m\n\u001b[1;37m    ^\u001b[0m\n\u001b[1;31mSyntaxError\u001b[0m\u001b[1;31m:\u001b[0m invalid syntax\n"
     ]
    }
   ],
   "source": [
    ". import re\n",
    "def text_match(text):\n",
    "        patterns = '^[a-zA-Z0-9_]*$'\n",
    "        if re.search(patterns,  text):\n",
    "                return 'Found a match!'\n",
    "        else:\n",
    "                return('Not matched!')\n",
    "\n",
    "print(text_match(\"The quick brown fox jumps over the lazy dog.\"))\n",
    "print(text_match(\"Python_Exercises_1\"))\n"
   ]
  },
  {
   "cell_type": "code",
   "execution_count": 15,
   "id": "ad29fe19",
   "metadata": {},
   "outputs": [
    {
     "ename": "SyntaxError",
     "evalue": "invalid syntax (3280214093.py, line 1)",
     "output_type": "error",
     "traceback": [
      "\u001b[1;36m  Cell \u001b[1;32mIn[15], line 1\u001b[1;36m\u001b[0m\n\u001b[1;33m    . import re\u001b[0m\n\u001b[1;37m    ^\u001b[0m\n\u001b[1;31mSyntaxError\u001b[0m\u001b[1;31m:\u001b[0m invalid syntax\n"
     ]
    }
   ],
   "source": [
    ". import re\n",
    "def match_num(string):\n",
    "    text = re.compile(r\"^5\")\n",
    "    if text.match(string):\n",
    "        return True\n",
    "    else:\n",
    "        return False\n",
    "print(match_num('5-2345861'))\n",
    "print(match_num('6-2345861'))\n"
   ]
  },
  {
   "cell_type": "code",
   "execution_count": 16,
   "id": "edef52ee",
   "metadata": {},
   "outputs": [
    {
     "name": "stdout",
     "output_type": "stream",
     "text": [
      "216.8.94.196\n"
     ]
    }
   ],
   "source": [
    "import re\n",
    "ip = \"216.08.094.196\"\n",
    "string = re.sub('\\.[0]*', '.', ip)\n",
    "print(string)\n"
   ]
  },
  {
   "cell_type": "code",
   "execution_count": 17,
   "id": "99453d49",
   "metadata": {},
   "outputs": [
    {
     "ename": "FileNotFoundError",
     "evalue": "[Errno 2] No such file or directory: 'sample.txt'",
     "output_type": "error",
     "traceback": [
      "\u001b[1;31m---------------------------------------------------------------------------\u001b[0m",
      "\u001b[1;31mFileNotFoundError\u001b[0m                         Traceback (most recent call last)",
      "Cell \u001b[1;32mIn[17], line 14\u001b[0m\n\u001b[0;32m     11\u001b[0m     \u001b[38;5;28;01mreturn\u001b[39;00m dates\n\u001b[0;32m     13\u001b[0m \u001b[38;5;66;03m# Read the text from the file\u001b[39;00m\n\u001b[1;32m---> 14\u001b[0m \u001b[38;5;28;01mwith\u001b[39;00m \u001b[38;5;28;43mopen\u001b[39;49m\u001b[43m(\u001b[49m\u001b[38;5;124;43m\"\u001b[39;49m\u001b[38;5;124;43msample.txt\u001b[39;49m\u001b[38;5;124;43m\"\u001b[39;49m\u001b[43m,\u001b[49m\u001b[43m \u001b[49m\u001b[38;5;124;43m\"\u001b[39;49m\u001b[38;5;124;43mr\u001b[39;49m\u001b[38;5;124;43m\"\u001b[39;49m\u001b[43m)\u001b[49m \u001b[38;5;28;01mas\u001b[39;00m file:\n\u001b[0;32m     15\u001b[0m     text \u001b[38;5;241m=\u001b[39m file\u001b[38;5;241m.\u001b[39mread()\n\u001b[0;32m     17\u001b[0m \u001b[38;5;66;03m# Extract date strings from the text\u001b[39;00m\n",
      "File \u001b[1;32m~\\anaconda3\\lib\\site-packages\\IPython\\core\\interactiveshell.py:282\u001b[0m, in \u001b[0;36m_modified_open\u001b[1;34m(file, *args, **kwargs)\u001b[0m\n\u001b[0;32m    275\u001b[0m \u001b[38;5;28;01mif\u001b[39;00m file \u001b[38;5;129;01min\u001b[39;00m {\u001b[38;5;241m0\u001b[39m, \u001b[38;5;241m1\u001b[39m, \u001b[38;5;241m2\u001b[39m}:\n\u001b[0;32m    276\u001b[0m     \u001b[38;5;28;01mraise\u001b[39;00m \u001b[38;5;167;01mValueError\u001b[39;00m(\n\u001b[0;32m    277\u001b[0m         \u001b[38;5;124mf\u001b[39m\u001b[38;5;124m\"\u001b[39m\u001b[38;5;124mIPython won\u001b[39m\u001b[38;5;124m'\u001b[39m\u001b[38;5;124mt let you open fd=\u001b[39m\u001b[38;5;132;01m{\u001b[39;00mfile\u001b[38;5;132;01m}\u001b[39;00m\u001b[38;5;124m by default \u001b[39m\u001b[38;5;124m\"\u001b[39m\n\u001b[0;32m    278\u001b[0m         \u001b[38;5;124m\"\u001b[39m\u001b[38;5;124mas it is likely to crash IPython. If you know what you are doing, \u001b[39m\u001b[38;5;124m\"\u001b[39m\n\u001b[0;32m    279\u001b[0m         \u001b[38;5;124m\"\u001b[39m\u001b[38;5;124myou can use builtins\u001b[39m\u001b[38;5;124m'\u001b[39m\u001b[38;5;124m open.\u001b[39m\u001b[38;5;124m\"\u001b[39m\n\u001b[0;32m    280\u001b[0m     )\n\u001b[1;32m--> 282\u001b[0m \u001b[38;5;28;01mreturn\u001b[39;00m io_open(file, \u001b[38;5;241m*\u001b[39margs, \u001b[38;5;241m*\u001b[39m\u001b[38;5;241m*\u001b[39mkwargs)\n",
      "\u001b[1;31mFileNotFoundError\u001b[0m: [Errno 2] No such file or directory: 'sample.txt'"
     ]
    }
   ],
   "source": [
    "import re\n",
    "\n",
    "# Function to extract date strings in the specified format from a given text\n",
    "def extract_dates_from_text(text):\n",
    "    # Define a regular expression pattern for matching the desired date format\n",
    "    pattern = r'\\b(?:January|February|March|April|May|June|July|August|September|October|November|December)\\s+\\d{1,2}(?:st|nd|rd|th)?\\s+\\d{4}\\b'\n",
    "    \n",
    "    # Use re.findall() to extract all matching date strings\n",
    "    dates = re.findall(pattern, text)\n",
    "    \n",
    "    return dates\n",
    "\n",
    "# Read the text from the file\n",
    "with open(\"sample.txt\", \"r\") as file:\n",
    "    text = file.read()\n",
    "\n",
    "# Extract date strings from the text\n",
    "extracted_dates = extract_dates_from_text(text)\n",
    "\n",
    "# Print the extracted date strings\n",
    "for date in extracted_dates:\n",
    "    print(date)\n"
   ]
  },
  {
   "cell_type": "code",
   "execution_count": 18,
   "id": "a719efb0",
   "metadata": {},
   "outputs": [
    {
     "name": "stdout",
     "output_type": "stream",
     "text": [
      "Found words: ['fox', 'dog']\n"
     ]
    }
   ],
   "source": [
    "# Sample text\n",
    "sample_text = 'The quick brown fox jumps over the lazy dog.'\n",
    "\n",
    "# List of words to search for\n",
    "searched_words = ['fox', 'dog', 'horse']\n",
    "\n",
    "# Function to search for words in the text\n",
    "def search_words_in_text(text, words_to_search):\n",
    "    found_words = []\n",
    "    for word in words_to_search:\n",
    "        if word in text:\n",
    "            found_words.append(word)\n",
    "    return found_words\n",
    "\n",
    "# Search for words in the sample text\n",
    "found_words = search_words_in_text(sample_text, searched_words)\n",
    "\n",
    "# Print the found words\n",
    "if found_words:\n",
    "    print(\"Found words:\", found_words)\n",
    "else:\n",
    "    print(\"No matching words found.\")\n"
   ]
  },
  {
   "cell_type": "code",
   "execution_count": 19,
   "id": "9d878414",
   "metadata": {},
   "outputs": [
    {
     "name": "stdout",
     "output_type": "stream",
     "text": [
      "The word 'fox' is found at the following locations:\n",
      "Start: 16, End: 19\n"
     ]
    }
   ],
   "source": [
    "# Sample text\n",
    "sample_text = 'The quick brown fox jumps over the lazy dog.'\n",
    "\n",
    "# Word to search for\n",
    "searched_word = 'fox'\n",
    "\n",
    "# Function to search for a word and find its location in the text\n",
    "def find_word_location(text, word):\n",
    "    locations = []\n",
    "    start = -1\n",
    "    while True:\n",
    "        start = text.find(word, start + 1)\n",
    "        if start == -1:\n",
    "            break\n",
    "        end = start + len(word)\n",
    "        locations.append((start, end))\n",
    "    return locations\n",
    "\n",
    "# Search for the word in the sample text\n",
    "word_locations = find_word_location(sample_text, searched_word)\n",
    "\n",
    "# Print the word locations\n",
    "if word_locations:\n",
    "    print(f\"The word '{searched_word}' is found at the following locations:\")\n",
    "    for start, end in word_locations:\n",
    "        print(f\"Start: {start}, End: {end}\")\n",
    "else:\n",
    "    print(f\"The word '{searched_word}' was not found in the text.\")\n"
   ]
  },
  {
   "cell_type": "code",
   "execution_count": 20,
   "id": "d80f6639",
   "metadata": {},
   "outputs": [
    {
     "name": "stdout",
     "output_type": "stream",
     "text": [
      "The substring 'exercises' is found at the following locations:\n",
      "Start: 7, End: 16\n",
      "Start: 22, End: 31\n",
      "Start: 36, End: 45\n"
     ]
    }
   ],
   "source": [
    "# Sample text\n",
    "sample_text = 'Python exercises, PHP exercises, C# exercises'\n",
    "\n",
    "# Substring to search for\n",
    "substring_to_find = 'exercises'\n",
    "\n",
    "# Function to find all occurrences of a substring in a text\n",
    "def find_substrings(text, substring):\n",
    "    locations = []\n",
    "    start = -1\n",
    "    while True:\n",
    "        start = text.find(substring, start + 1)\n",
    "        if start == -1:\n",
    "            break\n",
    "        end = start + len(substring)\n",
    "        locations.append((start, end))\n",
    "    return locations\n",
    "\n",
    "# Find all occurrences of the substring in the sample text\n",
    "substring_locations = find_substrings(sample_text, substring_to_find)\n",
    "\n",
    "# Print the substring locations\n",
    "if substring_locations:\n",
    "    print(f\"The substring '{substring_to_find}' is found at the following locations:\")\n",
    "    for start, end in substring_locations:\n",
    "        print(f\"Start: {start}, End: {end}\")\n",
    "else:\n",
    "    print(f\"The substring '{substring_to_find}' was not found in the text.\")\n"
   ]
  },
  {
   "cell_type": "code",
   "execution_count": 21,
   "id": "c675ffb7",
   "metadata": {},
   "outputs": [
    {
     "name": "stdout",
     "output_type": "stream",
     "text": [
      "Found \"exercises\" at 7:16\n",
      "Found \"exercises\" at 22:31\n",
      "Found \"exercises\" at 36:45\n"
     ]
    }
   ],
   "source": [
    "import re\n",
    "text = 'Python exercises, PHP exercises, C# exercises'\n",
    "pattern = 'exercises'\n",
    "for match in re.finditer(pattern, text):\n",
    "    s = match.start()\n",
    "    e = match.end()\n",
    "    print('Found \"%s\" at %d:%d' % (text[s:e], s, e))\n"
   ]
  },
  {
   "cell_type": "code",
   "execution_count": 22,
   "id": "fea63c2b",
   "metadata": {},
   "outputs": [
    {
     "name": "stdout",
     "output_type": "stream",
     "text": [
      "Original date in YYY-MM-DD Format:  2026-01-02\n",
      "New date in DD-MM-YYYY Format:  02-01-2026\n"
     ]
    }
   ],
   "source": [
    "import re\n",
    "def change_date_format(dt):\n",
    "        return re.sub(r'(\\d{4})-(\\d{1,2})-(\\d{1,2})', '\\\\3-\\\\2-\\\\1', dt)\n",
    "dt1 = \"2026-01-02\"\n",
    "print(\"Original date in YYY-MM-DD Format: \",dt1)\n",
    "print(\"New date in DD-MM-YYYY Format: \",change_date_format(dt1))\n"
   ]
  },
  {
   "cell_type": "code",
   "execution_count": 23,
   "id": "76bc0a33",
   "metadata": {},
   "outputs": [
    {
     "name": "stdout",
     "output_type": "stream",
     "text": [
      "Found decimal numbers: ['01.12', '145.8', '3.01', '27.25', '0.25']\n"
     ]
    }
   ],
   "source": [
    "import re\n",
    "\n",
    "def find_decimal_numbers_with_precision(text):\n",
    "    # Define a regular expression pattern for matching decimal numbers with precision of 1 or 2\n",
    "    pattern = re.compile(r'\\b\\d+\\.\\d{1,2}\\b')\n",
    "    \n",
    "    # Use re.findall() to extract all matching numbers\n",
    "    decimal_numbers = re.findall(pattern, text)\n",
    "    \n",
    "    return decimal_numbers\n",
    "\n",
    "# Sample Text\n",
    "sample_text = \"01.12 0132.123 2.31875 145.8 3.01 27.25 0.25\"\n",
    "\n",
    "# Find decimal numbers with precision of 1 or 2 in the text\n",
    "decimal_numbers = find_decimal_numbers_with_precision(sample_text)\n",
    "\n",
    "# Print the found decimal numbers\n",
    "print(\"Found decimal numbers:\", decimal_numbers)\n"
   ]
  },
  {
   "cell_type": "code",
   "execution_count": 24,
   "id": "90c31a8b",
   "metadata": {},
   "outputs": [
    {
     "name": "stdout",
     "output_type": "stream",
     "text": [
      "50\n",
      "Index position: 62\n"
     ]
    }
   ],
   "source": [
    "import re\n",
    "# Input.\n",
    "text = \"The following example creates an ArrayList with a capacity of 50 elements. Four elements are then added to the ArrayList and the ArrayList is trimmed accordingly.\"\n",
    "\n",
    "for m in re.finditer(\"\\d+\", text):\n",
    "    print(m.group(0))\n",
    "    print(\"Index position:\", m.start())\n"
   ]
  },
  {
   "cell_type": "code",
   "execution_count": 25,
   "id": "1e7d1480",
   "metadata": {},
   "outputs": [
    {
     "name": "stdout",
     "output_type": "stream",
     "text": [
      "Maximum value: 950\n"
     ]
    }
   ],
   "source": [
    "import re\n",
    "\n",
    "# Sample text\n",
    "sample_text = 'My marks in each semester are: 947, 896, 926, 524, 734, 950, 642'\n",
    "\n",
    "# Define a regular expression pattern to match numeric values\n",
    "pattern = r'\\d+'\n",
    "\n",
    "# Use re.findall() to extract all numeric values from the text\n",
    "numeric_values = re.findall(pattern, sample_text)\n",
    "\n",
    "# Convert the numeric values to integers and find the maximum\n",
    "if numeric_values:\n",
    "    numeric_values = [int(value) for value in numeric_values]\n",
    "    maximum_value = max(numeric_values)\n",
    "    print(\"Maximum value:\", maximum_value)\n",
    "else:\n",
    "    print(\"No numeric values found in the text.\")\n"
   ]
  },
  {
   "cell_type": "code",
   "execution_count": 26,
   "id": "8cf96406",
   "metadata": {},
   "outputs": [
    {
     "name": "stdout",
     "output_type": "stream",
     "text": [
      "Modified Text: Regular Expression Is An Important Topic In Python\n"
     ]
    }
   ],
   "source": [
    "import re\n",
    "\n",
    "def insert_spaces_between_capital_words(input_text):\n",
    "    # Define a regular expression pattern to match words starting with capital letters\n",
    "    pattern = re.compile(r'(?<=[a-z])([A-Z])')\n",
    "    \n",
    "    # Use re.sub() to insert spaces before words starting with capital letters\n",
    "    modified_text = pattern.sub(r' \\1', input_text)\n",
    "    \n",
    "    return modified_text\n",
    "\n",
    "# Sample Text\n",
    "sample_text = \"RegularExpressionIsAnImportantTopicInPython\"\n",
    "\n",
    "# Insert spaces between words starting with capital letters\n",
    "modified_text = insert_spaces_between_capital_words(sample_text)\n",
    "\n",
    "# Print the modified text\n",
    "print(\"Modified Text:\", modified_text)\n"
   ]
  },
  {
   "cell_type": "code",
   "execution_count": 27,
   "id": "f54d8502",
   "metadata": {},
   "outputs": [
    {
     "name": "stdout",
     "output_type": "stream",
     "text": [
      "Found a match!\n",
      "Found a match!\n",
      "Not matched!\n",
      "Not matched!\n",
      "Not matched!\n",
      "Found a match!\n"
     ]
    }
   ],
   "source": [
    "import re\n",
    "def text_match(text):\n",
    "        patterns = '[A-Z]+[a-z]+$'\n",
    "        if re.search(patterns, text):\n",
    "                return 'Found a match!'\n",
    "        else:\n",
    "                return('Not matched!')\n",
    "print(text_match(\"AaBbGg\"))\n",
    "print(text_match(\"Python\"))\n",
    "print(text_match(\"python\"))\n",
    "print(text_match(\"PYTHON\"))\n",
    "print(text_match(\"aA\"))\n",
    "print(text_match(\"Aa\"))\n"
   ]
  },
  {
   "cell_type": "code",
   "execution_count": 28,
   "id": "ed460ccb",
   "metadata": {},
   "outputs": [
    {
     "name": "stdout",
     "output_type": "stream",
     "text": [
      "Cleaned Text: Hello hello world\n"
     ]
    }
   ],
   "source": [
    "import re\n",
    "\n",
    "def remove_continuous_duplicates(input_text):\n",
    "    # Define a regular expression pattern to match continuous duplicate words\n",
    "    pattern = re.compile(r'\\b(\\w+)(?:\\s+\\1)+\\b')\n",
    "    \n",
    "    # Use re.sub() to remove continuous duplicate words\n",
    "    cleaned_text = pattern.sub(r'\\1', input_text)\n",
    "    \n",
    "    return cleaned_text\n",
    "\n",
    "# Sample Text\n",
    "sample_text = \"Hello hello world world\"\n",
    "\n",
    "# Remove continuous duplicate words from the text\n",
    "cleaned_text = remove_continuous_duplicates(sample_text)\n",
    "\n",
    "# Print the cleaned text\n",
    "print(\"Cleaned Text:\", cleaned_text)\n"
   ]
  },
  {
   "cell_type": "code",
   "execution_count": null,
   "id": "7290c6c0",
   "metadata": {},
   "outputs": [],
   "source": [
    "import re\n",
    "\n",
    "# Define the regular expression pattern\n",
    "pattern = r\".*[a-zA-Z0-9]$\"\n",
    "\n",
    "# Function to check if a string matches the pattern\n",
    "def is_string_valid(input_string):\n",
    "    return bool(re.match(pattern, input_string))\n",
    "\n",
    "# Input from the user\n",
    "user_input = input(\"Enter a string: \")\n",
    "\n",
    "# Check if the input string matches the pattern\n",
    "if is_string_valid(user_input):\n",
    "    print(\"Valid: The string ends with an alphanumeric character.\")\n",
    "else:\n",
    "    print(\"Invalid: The string does not end with an alphanumeric character.\")\n"
   ]
  },
  {
   "cell_type": "code",
   "execution_count": null,
   "id": "f5f3c697",
   "metadata": {},
   "outputs": [],
   "source": [
    "import re\n",
    "\n",
    "# Sample text\n",
    "sample_text = \"@Jags123456 Bharat band on 28??<ed><U+00A0><U+00BD><ed><U+00B8><U+0082>Those who  are protesting #demonetization  are all different party leaders\"\n",
    "\n",
    "# Define the regular expression pattern to match <U+..> like symbols\n",
    "pattern = r\"<U\\+\\w+>\"\n",
    "\n",
    "# Use re.sub() to replace the matched patterns with an empty string\n",
    "cleaned_text = re.sub(pattern, '', sample_text)\n",
    "\n",
    "# Print the cleaned text\n",
    "print(\"Cleaned text:\", cleaned_text)\n"
   ]
  },
  {
   "cell_type": "code",
   "execution_count": null,
   "id": "8d9ff472",
   "metadata": {},
   "outputs": [],
   "source": [
    "= import re\n",
    "\n",
    "# Function to extract dates from a given text\n",
    "def extract_dates_from_text(text):\n",
    "    # Define the regular expression pattern for dates in the format dd-mm-yyyy\n",
    "    pattern = r'\\d{2}-\\d{2}-\\d{4}'\n",
    "    \n",
    "    # Use re.findall() to extract all matching dates\n",
    "    dates = re.findall(pattern, text)\n",
    "    \n",
    "    return dates\n",
    "\n",
    "# Read the text from the file\n",
    "with open(\"sample.txt\", \"r\") as file:\n",
    "    text = file.read()\n",
    "\n",
    "# Extract dates from the text\n",
    "dates = extract_dates_from_text(text)\n",
    "\n",
    "# Print the extracted dates\n",
    "print(\"Extracted dates:\", dates)\n"
   ]
  },
  {
   "cell_type": "code",
   "execution_count": null,
   "id": "4b58bbd6",
   "metadata": {},
   "outputs": [],
   "source": [
    ". import re\n",
    "\n",
    "# Function to extract dates from a given text\n",
    "def extract_dates_from_text(text):\n",
    "    # Define the regular expression pattern for dates in the format dd-mm-yyyy\n",
    "    pattern = r'\\d{2}-\\d{2}-\\d{4}'\n",
    "    \n",
    "    # Use re.findall() to extract all matching dates\n",
    "    dates = re.findall(pattern, text)\n",
    "    \n",
    "    return dates\n",
    "\n",
    "# Read the text from the file\n",
    "with open(\"sample.txt\", \"r\") as file:\n",
    "    text = file.read()\n",
    "\n",
    "# Extract dates from the text\n",
    "dates = extract_dates_from_text(text)\n"
   ]
  },
  {
   "cell_type": "code",
   "execution_count": null,
   "id": "a60be45b",
   "metadata": {},
   "outputs": [],
   "source": []
  }
 ],
 "metadata": {
  "kernelspec": {
   "display_name": "Python 3 (ipykernel)",
   "language": "python",
   "name": "python3"
  },
  "language_info": {
   "codemirror_mode": {
    "name": "ipython",
    "version": 3
   },
   "file_extension": ".py",
   "mimetype": "text/x-python",
   "name": "python",
   "nbconvert_exporter": "python",
   "pygments_lexer": "ipython3",
   "version": "3.10.9"
  }
 },
 "nbformat": 4,
 "nbformat_minor": 5
}
